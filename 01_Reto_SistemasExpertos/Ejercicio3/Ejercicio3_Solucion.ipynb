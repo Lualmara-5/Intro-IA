{
  "nbformat": 4,
  "nbformat_minor": 0,
  "metadata": {
    "colab": {
      "provenance": []
    },
    "kernelspec": {
      "name": "python3",
      "display_name": "Python 3"
    },
    "language_info": {
      "name": "python"
    }
  },
  "cells": [
    {
      "cell_type": "markdown",
      "source": [
        "#Sistema Experto de Diagnóstico Médico"
      ],
      "metadata": {
        "id": "Ewvi3RYmgarl"
      }
    },
    {
      "cell_type": "code",
      "source": [
        "pip install experta"
      ],
      "metadata": {
        "id": "KpOHhgnLUSgg",
        "colab": {
          "base_uri": "https://localhost:8080/"
        },
        "outputId": "93bcbbdb-153b-4676-96d0-45c9a3690b4c"
      },
      "execution_count": 1,
      "outputs": [
        {
          "output_type": "stream",
          "name": "stdout",
          "text": [
            "Collecting experta\n",
            "  Downloading experta-1.9.4-py3-none-any.whl.metadata (5.0 kB)\n",
            "Collecting frozendict==1.2 (from experta)\n",
            "  Downloading frozendict-1.2.tar.gz (2.6 kB)\n",
            "  Preparing metadata (setup.py) ... \u001b[?25l\u001b[?25hdone\n",
            "Collecting schema==0.6.7 (from experta)\n",
            "  Downloading schema-0.6.7-py2.py3-none-any.whl.metadata (14 kB)\n",
            "Downloading experta-1.9.4-py3-none-any.whl (35 kB)\n",
            "Downloading schema-0.6.7-py2.py3-none-any.whl (14 kB)\n",
            "Building wheels for collected packages: frozendict\n",
            "  Building wheel for frozendict (setup.py) ... \u001b[?25l\u001b[?25hdone\n",
            "  Created wheel for frozendict: filename=frozendict-1.2-py3-none-any.whl size=3149 sha256=af54f17192669ff93e386d2c2d5055c5e88f8a1e5bac8b2b2635b5c44042b26a\n",
            "  Stored in directory: /root/.cache/pip/wheels/f6/ff/aa/750fec7bf9618d87b53572def5abf3e098f853cc5ab4147656\n",
            "Successfully built frozendict\n",
            "Installing collected packages: schema, frozendict, experta\n",
            "  Attempting uninstall: frozendict\n",
            "    Found existing installation: frozendict 2.4.6\n",
            "    Uninstalling frozendict-2.4.6:\n",
            "      Successfully uninstalled frozendict-2.4.6\n",
            "\u001b[31mERROR: pip's dependency resolver does not currently take into account all the packages that are installed. This behaviour is the source of the following dependency conflicts.\n",
            "yfinance 0.2.65 requires frozendict>=2.3.4, but you have frozendict 1.2 which is incompatible.\u001b[0m\u001b[31m\n",
            "\u001b[0mSuccessfully installed experta-1.9.4 frozendict-1.2 schema-0.6.7\n"
          ]
        }
      ]
    },
    {
      "cell_type": "code",
      "source": [
        "import collections.abc\n",
        "if not hasattr(collections, 'Mapping'):\n",
        "    collections.Mapping = collections.abc.Mapping"
      ],
      "metadata": {
        "id": "OvZe8OcyUTFQ"
      },
      "execution_count": 2,
      "outputs": []
    },
    {
      "cell_type": "code",
      "source": [
        "from experta import *\n",
        "\n",
        "# Definimos hechos\n",
        "class Sintoma(Fact):\n",
        "    \"\"\"Un síntoma posible\"\"\"\n",
        "    pass\n",
        "\n",
        "class Enfermedad(Fact):\n",
        "    \"\"\"Enfermedad con su lista de síntomas característicos\"\"\"\n",
        "    pass\n",
        "\n",
        "class Gravedad(Fact):\n",
        "    \"\"\"Nivel de gravedad de una enfermedad\"\"\"\n",
        "    pass\n",
        "\n",
        "class Diagnostico(Fact):\n",
        "    \"\"\"Diagnóstico generado por el sistema\"\"\"\n",
        "    pass\n",
        "\n",
        "class Recomendacion(Fact):\n",
        "    \"\"\"Recomendación asociada al diagnóstico\"\"\"\n",
        "    pass\n",
        "\n",
        "\n",
        "class DiagnosticoMedico(KnowledgeEngine):\n",
        "\n",
        "    # === Diagnóstico según síntomas (con ≥ len(sintomas)/2) ===\n",
        "    @Rule(Enfermedad(nombre='resfriado_comun', sintomas=MATCH.sintomas) &\n",
        "          Fact(sintomas_paciente=MATCH.sintomas_paciente))\n",
        "    def diagnosticar_resfriado(self, sintomas, sintomas_paciente):\n",
        "        coincidencias = sum(1 for s in sintomas if s in sintomas_paciente)\n",
        "        if coincidencias >= len(sintomas) / 2:\n",
        "            self.declare(Diagnostico(enfermedad='resfriado_comun'))\n",
        "\n",
        "    @Rule(Enfermedad(nombre='gripe', sintomas=MATCH.sintomas) &\n",
        "          Fact(sintomas_paciente=MATCH.sintomas_paciente))\n",
        "    def diagnosticar_gripe(self, sintomas, sintomas_paciente):\n",
        "        coincidencias = sum(1 for s in sintomas if s in sintomas_paciente)\n",
        "        if coincidencias >= len(sintomas) / 2:\n",
        "            self.declare(Diagnostico(enfermedad='gripe'))\n",
        "\n",
        "    @Rule(Enfermedad(nombre='covid_19', sintomas=MATCH.sintomas) &\n",
        "          Fact(sintomas_paciente=MATCH.sintomas_paciente))\n",
        "    def diagnosticar_covid(self, sintomas, sintomas_paciente):\n",
        "        coincidencias = sum(1 for s in sintomas if s in sintomas_paciente)\n",
        "        if coincidencias >= len(sintomas) / 2:\n",
        "            self.declare(Diagnostico(enfermedad='covid_19'))\n",
        "\n",
        "    @Rule(Enfermedad(nombre='neumonia', sintomas=MATCH.sintomas) &\n",
        "          Fact(sintomas_paciente=MATCH.sintomas_paciente))\n",
        "    def diagnosticar_neumonia(self, sintomas, sintomas_paciente):\n",
        "        coincidencias = sum(1 for s in sintomas if s in sintomas_paciente)\n",
        "        if coincidencias >= len(sintomas) / 2:\n",
        "            self.declare(Diagnostico(enfermedad='neumonia'))\n",
        "\n",
        "    # === Recomendaciones básicas según gravedad ===\n",
        "    @Rule(Diagnostico(enfermedad=MATCH.enf) &\n",
        "          Gravedad(enfermedad=MATCH.enf, nivel=1))\n",
        "    def recomendacion_leve(self, enf):\n",
        "        self.declare(Recomendacion(mensaje=\"Reposo en casa, hidratación y medicamentos básicos.\"))\n",
        "\n",
        "    @Rule(Diagnostico(enfermedad=MATCH.enf) &\n",
        "          Gravedad(enfermedad=MATCH.enf, nivel=2))\n",
        "    def recomendacion_media(self, enf):\n",
        "        self.declare(Recomendacion(mensaje=\"Consulta médica recomendada y tratamiento con supervisión.\"))\n",
        "\n",
        "    @Rule(Diagnostico(enfermedad=MATCH.enf) &\n",
        "          Gravedad(enfermedad=MATCH.enf, nivel=3))\n",
        "    def recomendacion_grave(self, enf):\n",
        "        self.declare(Recomendacion(mensaje=\"Atención médica urgente, posible hospitalización.\"))\n",
        "\n",
        "\n",
        "# =========================\n",
        "# Base de conocimiento\n",
        "# =========================\n",
        "\n",
        "enfermedades = [\n",
        "    Enfermedad(nombre='resfriado_comun', sintomas=['tos', 'congestion_nasal', 'estornudos', 'dolor_garganta']),\n",
        "    Enfermedad(nombre='gripe', sintomas=['fiebre', 'tos', 'dolor_muscular', 'fatiga', 'dolor_cabeza']),\n",
        "    Enfermedad(nombre='covid_19', sintomas=['fiebre', 'tos', 'fatiga', 'dificultad_respirar', 'dolor_muscular']),\n",
        "    Enfermedad(nombre='neumonia', sintomas=['tos', 'fiebre', 'dificultad_respirar', 'dolor_pecho', 'fatiga']),\n",
        "]\n",
        "\n",
        "gravedades = [\n",
        "    Gravedad(enfermedad='resfriado_comun', nivel=1),\n",
        "    Gravedad(enfermedad='gripe', nivel=2),\n",
        "    Gravedad(enfermedad='covid_19', nivel=3),\n",
        "    Gravedad(enfermedad='neumonia', nivel=3),\n",
        "]\n",
        "\n",
        "# =========================\n",
        "# Ejecución\n",
        "# =========================\n",
        "\n",
        "if __name__ == '__main__':\n",
        "    motor = DiagnosticoMedico()\n",
        "    motor.reset()\n",
        "\n",
        "    for enf in enfermedades:\n",
        "        motor.declare(enf)\n",
        "\n",
        "    for grav in gravedades:\n",
        "        motor.declare(grav)\n",
        "\n",
        "    sintomas_conocidos = ['fiebre', 'tos', 'dolor_cabeza', 'dolor_garganta', 'congestion_nasal','fatiga', 'dolor_muscular', 'estornudos', 'dificultad_respirar', 'dolor_pecho']\n",
        "\n",
        "    sintomas_paciente = []\n",
        "    print(\"🩺 Diagnóstico Médico Básico\")\n",
        "    print(\"Responde 'si' o 'no' a cada síntoma:\")\n",
        "\n",
        "    for sintoma in sintomas_conocidos:\n",
        "        respuesta = input(f\"¿Tienes {sintoma.replace('_', ' ')}? (si/no): \").strip().lower()\n",
        "        if respuesta == 'si':\n",
        "            sintomas_paciente.append(sintoma)\n",
        "\n",
        "    motor.declare(Fact(sintomas_paciente=sintomas_paciente))\n",
        "\n",
        "    # Ejecutamos el motor\n",
        "    motor.run()\n",
        "\n",
        "    # Mostramos resultado\n",
        "    diagnostico_final = None\n",
        "    recomendacion_final = None\n",
        "\n",
        "    for hecho in motor.facts.values():\n",
        "        if isinstance(hecho, Diagnostico):\n",
        "            diagnostico_final = hecho['enfermedad']\n",
        "        elif isinstance(hecho, Recomendacion):\n",
        "            recomendacion_final = hecho['mensaje']\n",
        "\n",
        "    if diagnostico_final:\n",
        "        print(f\"\\n✅ Diagnóstico: {diagnostico_final}\")\n",
        "        print(f\"💡 Recomendación: {recomendacion_final}\")\n",
        "    else:\n",
        "        print(\"\\n❓ No se pudo hacer un diagnóstico claro. Por favor consulta al médico.\")\n"
      ],
      "metadata": {
        "id": "JNQrcGPQtSQy",
        "colab": {
          "base_uri": "https://localhost:8080/"
        },
        "outputId": "8d1ec603-fda7-4a6e-e8dc-95b48ea9a2ce"
      },
      "execution_count": 8,
      "outputs": [
        {
          "output_type": "stream",
          "name": "stdout",
          "text": [
            "🩺 Diagnóstico Médico Básico\n",
            "Responde 'si' o 'no' a cada síntoma:\n",
            "¿Tienes fiebre? (si/no): si\n",
            "¿Tienes tos? (si/no): no\n",
            "¿Tienes dolor cabeza? (si/no): si\n",
            "¿Tienes dolor garganta? (si/no): no\n",
            "¿Tienes congestion nasal? (si/no): no\n",
            "¿Tienes fatiga? (si/no): si\n",
            "¿Tienes dolor muscular? (si/no): si\n",
            "¿Tienes estornudos? (si/no): no\n",
            "¿Tienes dificultad respirar? (si/no): si\n",
            "¿Tienes dolor pecho? (si/no): no\n",
            "\n",
            "✅ Diagnóstico: gripe\n",
            "💡 Recomendación: Consulta médica recomendada y tratamiento con supervisión.\n"
          ]
        }
      ]
    }
  ]
}