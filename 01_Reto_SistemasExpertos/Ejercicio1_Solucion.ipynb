{
  "nbformat": 4,
  "nbformat_minor": 0,
  "metadata": {
    "colab": {
      "provenance": []
    },
    "kernelspec": {
      "name": "python3",
      "display_name": "Python 3"
    },
    "language_info": {
      "name": "python"
    }
  },
  "cells": [
    {
      "cell_type": "markdown",
      "source": [
        "# ***Sistema experto para diagnóstico de fallas en un vehículo***"
      ],
      "metadata": {
        "id": "wPBWqUtw-UfH"
      }
    },
    {
      "cell_type": "code",
      "source": [
        "pip install experta"
      ],
      "metadata": {
        "id": "9WZpfUt2YZdF",
        "colab": {
          "base_uri": "https://localhost:8080/"
        },
        "outputId": "ade4dc0e-3830-4f9e-beea-67416184ccca"
      },
      "execution_count": null,
      "outputs": [
        {
          "output_type": "stream",
          "name": "stdout",
          "text": [
            "Collecting experta\n",
            "  Downloading experta-1.9.4-py3-none-any.whl.metadata (5.0 kB)\n",
            "Collecting frozendict==1.2 (from experta)\n",
            "  Downloading frozendict-1.2.tar.gz (2.6 kB)\n",
            "  Preparing metadata (setup.py) ... \u001b[?25l\u001b[?25hdone\n",
            "Collecting schema==0.6.7 (from experta)\n",
            "  Downloading schema-0.6.7-py2.py3-none-any.whl.metadata (14 kB)\n",
            "Downloading experta-1.9.4-py3-none-any.whl (35 kB)\n",
            "Downloading schema-0.6.7-py2.py3-none-any.whl (14 kB)\n",
            "Building wheels for collected packages: frozendict\n",
            "  Building wheel for frozendict (setup.py) ... \u001b[?25l\u001b[?25hdone\n",
            "  Created wheel for frozendict: filename=frozendict-1.2-py3-none-any.whl size=3149 sha256=87e49916c4158c78fa155c1206efc0d43d74ff33c25f4134eebe4b9d5de45755\n",
            "  Stored in directory: /root/.cache/pip/wheels/f6/ff/aa/750fec7bf9618d87b53572def5abf3e098f853cc5ab4147656\n",
            "Successfully built frozendict\n",
            "Installing collected packages: schema, frozendict, experta\n",
            "  Attempting uninstall: frozendict\n",
            "    Found existing installation: frozendict 2.4.6\n",
            "    Uninstalling frozendict-2.4.6:\n",
            "      Successfully uninstalled frozendict-2.4.6\n",
            "\u001b[31mERROR: pip's dependency resolver does not currently take into account all the packages that are installed. This behaviour is the source of the following dependency conflicts.\n",
            "yfinance 0.2.65 requires frozendict>=2.3.4, but you have frozendict 1.2 which is incompatible.\u001b[0m\u001b[31m\n",
            "\u001b[0mSuccessfully installed experta-1.9.4 frozendict-1.2 schema-0.6.7\n"
          ]
        }
      ]
    },
    {
      "cell_type": "code",
      "source": [
        "# Para compatibilidad con versiones anteriores, siempre utilizarlo.\n",
        "import collections.abc\n",
        "if not hasattr(collections, 'Mapping'):\n",
        "    collections.Mapping = collections.abc.Mapping"
      ],
      "metadata": {
        "id": "ZPUTV6G4YbPg"
      },
      "execution_count": null,
      "outputs": []
    },
    {
      "cell_type": "code",
      "source": [
        "from experta import *  # Importa la libreria experta para crear el sistema experto\n",
        "\n",
        "# Definicion de hechos utilizados en el sistema\n",
        "class Symptom(Fact):  # Representa un sintoma observado en el vehiculo\n",
        "    pass\n",
        "\n",
        "class CarState(Fact):  # Estado general del motor u otra parte del vehiculo\n",
        "    pass\n",
        "\n",
        "class Diagnosis(Fact):  # Diagnostico generado por el sistema\n",
        "    pass\n",
        "\n",
        "class RepairAction(Fact):  # Representa una accion de reparacion necesaria\n",
        "    pass\n",
        "\n",
        "class VehicleStatus(Fact):  # Estado general del proceso de reparacion\n",
        "    pass\n",
        "\n",
        "# Clase principal que contiene las reglas del sistema experto\n",
        "class VehicleDiagnosis(KnowledgeEngine):\n",
        "\n",
        "    # Regla: humo blanco y luz de aceite indican posible dano grave al motor\n",
        "    @Rule(AND(Symptom(tipo='humo_blanco'), Symptom(tipo='luz_aceite')), salience=40)\n",
        "    def motor_grave_dano(self):\n",
        "        resultado = 'Posible_junta_de_cabeza_mala,_motor_en_riesgo'\n",
        "        print(resultado)\n",
        "        self.declare(Diagnosis(resultado=resultado))\n",
        "        self.declare(RepairAction(tipo='reparar_motor'))\n",
        "\n",
        "    # Regla: ruido metalico indica posible problema en los frenos\n",
        "    @Rule(Symptom(tipo='ruido_metalico'), salience=50)\n",
        "    def revisar_frenos(self):\n",
        "        resultado = 'Revisar_sistema_de_frenos'\n",
        "        print(resultado)\n",
        "        self.declare(Diagnosis(resultado=resultado))\n",
        "        self.declare(RepairAction(tipo='reparar_frenos'))\n",
        "\n",
        "    # Complete la regla: fuga de liquido + motor caliente = posible perdida de refrigerante\n",
        "    @Rule(AND(Symptom(tipo='fuga_liquido'), CarState(estado='motor_caliente')), salience=50)\n",
        "    def perdida_refrigerante(self):\n",
        "        resultado = 'Perdida_de_refrigerante,_posible_sobrecalentamiento'\n",
        "        print(resultado)\n",
        "        self.declare(Diagnosis(resultado=resultado))\n",
        "        self.declare(RepairAction(tipo='rellenar_refrigerante'))\n",
        "\n",
        "    # Regla: si no hay sintomas clave, sugerir revision general\n",
        "    @Rule(NOT(Symptom(tipo='humo_blanco')),NOT(Symptom(tipo='luz_aceite')), NOT(Symptom(tipo='ruido_metalico')), salience=10)\n",
        "    def revision_general(self):\n",
        "        resultado = 'Revision_general_recomendada'\n",
        "        print(resultado)\n",
        "        self.declare(Diagnosis(resultado=resultado))\n",
        "\n",
        "    # Regla de reparacion: eliminar sintoma 'ruido_metalico'\n",
        "    @Rule(RepairAction(tipo='reparar_frenos'), Symptom(tipo='ruido_metalico'), salience=150)\n",
        "    def ejecutar_reparacion_frenos(self):\n",
        "        print(\"Reparando sistema de frenos - Eliminando sintoma 'ruido_metalico'\")\n",
        "        for fact in self.facts:\n",
        "            if isinstance(fact, Symptom) and self.facts[fact]['tipo'] == 'ruido_metalico':\n",
        "                self.retract(fact)\n",
        "                break\n",
        "        print(\"Sintoma eliminado, vehiculo reparado\\n\")\n",
        "        self.declare(VehicleStatus(estado=\"verificar_reparacion\"))\n",
        "\n",
        "    # Regla de reparacion: eliminar sintoma 'humo_blanco'\n",
        "    @Rule(RepairAction(tipo='reparar_motor'), Symptom(tipo='humo_blanco'), salience=150)\n",
        "    def ejecutar_reparacion_motor_humo(self):\n",
        "        print(\"Reparando problema del motor - Eliminando sintoma 'humo_blanco'\")\n",
        "        for fact in self.facts:\n",
        "            if isinstance(fact, Symptom) and self.facts[fact]['tipo'] == 'humo_blanco':\n",
        "                self.retract(fact)\n",
        "                break\n",
        "        self.declare(VehicleStatus(estado='en_reparacion'))\n",
        "        print(\"Sintoma de humo eliminado, motor en reparacion\\n\")\n",
        "        self.declare(VehicleStatus(estado=\"verificar_reparacion\"))\n",
        "\n",
        "    # Regla de reparacion: eliminar sintoma 'luz_aceite'\n",
        "    @Rule(RepairAction(tipo='reparar_motor'), Symptom(tipo='luz_aceite'), salience=150)\n",
        "    def ejecutar_reparacion_motor_aceite(self):\n",
        "        print(\"Reparando problema del motor - Eliminando sintoma 'luz_aceite'\")\n",
        "        for fact in self.facts:\n",
        "            if isinstance(fact, Symptom) and self.facts[fact]['tipo'] == 'luz_aceite':\n",
        "                self.retract(fact)\n",
        "                break\n",
        "        print(\"Sintoma de luz de aceite eliminado\\n\")\n",
        "        self.declare(VehicleStatus(estado=\"verificar_reparacion\"))\n",
        "\n",
        "    # Verifica si ya no quedan sintomas: vehiculo esta listo\n",
        "    @Rule(VehicleStatus(estado=\"verificar_reparacion\"), salience=5)\n",
        "    def vehiculo_reparado(self):\n",
        "        tiene_sintomas = False\n",
        "        for fact in self.facts:\n",
        "            if isinstance(fact, Symptom):\n",
        "                tiene_sintomas = True\n",
        "                break\n",
        "\n",
        "        if not tiene_sintomas:\n",
        "            print(\"Todos los sintomas han sido resueltos. Vehiculo listo.\")\n",
        "\n",
        "# Ejecucion del sistema experto\n",
        "if __name__ == \"__main__\":\n",
        "    engine = VehicleDiagnosis()\n",
        "    engine.reset()  # Reinicia el motor\n",
        "\n",
        "    print(\"Primera ejecucion - Diagnostico inicial:\\n\")\n",
        "    # Complete las declaraciones\n",
        "    engine.declare(Symptom(tipo ='humo_blanco'))\n",
        "    engine.declare(Symptom(tipo ='luz_aceite'))\n",
        "    engine.declare(Symptom(tipo ='ruido_metalico'))\n",
        "\n",
        "    engine.run()  # Ejecuta las reglas"
      ],
      "metadata": {
        "id": "TrdpSq18jxFj",
        "colab": {
          "base_uri": "https://localhost:8080/"
        },
        "outputId": "5a12670e-a015-4d65-d57a-ee244ad52c07"
      },
      "execution_count": null,
      "outputs": [
        {
          "output_type": "stream",
          "name": "stdout",
          "text": [
            "Primera ejecucion - Diagnostico inicial:\n",
            "\n",
            "Revisar_sistema_de_frenos\n",
            "Reparando sistema de frenos - Eliminando sintoma 'ruido_metalico'\n",
            "Sintoma eliminado, vehiculo reparado\n",
            "\n",
            "Posible_junta_de_cabeza_mala,_motor_en_riesgo\n",
            "Reparando problema del motor - Eliminando sintoma 'luz_aceite'\n",
            "Sintoma de luz de aceite eliminado\n",
            "\n",
            "Reparando problema del motor - Eliminando sintoma 'humo_blanco'\n",
            "Sintoma de humo eliminado, motor en reparacion\n",
            "\n",
            "Todos los sintomas han sido resueltos. Vehiculo listo.\n"
          ]
        }
      ]
    },
    {
      "cell_type": "markdown",
      "source": [
        "## **Preguntas:**"
      ],
      "metadata": {
        "id": "lEGJSdW--fAW"
      }
    },
    {
      "cell_type": "markdown",
      "source": [
        "### **1. ¿Qué resultado se obtiene si se agrega un nuevo síntoma como ruido metalico en la entrada? Explique su respuesta**\n",
        "\n",
        "##### ***Rta:** El sistema dispara la regla de falla moderada `(Symptom(tipo='ruido_metalico'))`. Se genera el diagnóstico Diagnosis`(resultado='Revisar_sistema_de_frenos')` y se activa una acción de reparación `RepairAction(tipo='reparar_frenos')`.*\n",
        "<br>\n",
        "\n",
        "### **2. Utilizando las declaraciones anteriores, ¿Qué sucede si se cambia la saliencia de motor_grave_dano de 100 a 40?**\n",
        "\n",
        "##### ***Rta:** La regla de frenos (50) se ejecuta antes que la del motor (40), ya que la salience indica prioridad, a mayor número, mayor prioridad. Al bajarla a 40, la falla grave del motor se atiende después que la moderada de frenos.*\n",
        "<br>\n",
        "\n",
        "### **3. ¿Qué sucede si eliminamos salience de todas las reglas?**\n",
        "\n",
        "##### ***Rta:** Todas las reglas quedan con prioridad 0, entonces el motor las ejecuta según orden de activación y la política FIFO (Last-In, First-Out).*\n",
        "<br>\n",
        "\n",
        "### **4. ¿Qué ocurre si se activan múltiples reglas dentro del sistema experto, y cada una declara un hecho del mismo tipo Diagnosis, pero con diferentes valores en su atributo resultado, como `Diagnosis(resultado=...)`? ¿Se almacenan todos los diagnósticos generados, se sobrescribe alguno, o el motor de inferencia solo considera uno de ellos?**\n",
        "\n",
        "##### ***Rta:** Se almacenan todos los diagnósticos generados como hechos distintos.<br> <br> **1**. Experta mantiene una memoria de trabajo (un “bolsillo” de hechos). <br> **2**. Cada `self.declare(Diagnosis(resultado=...))` agrega un hecho nuevo al bolsillo. <br> **3**. No hay “variable única Diagnosis”; son hechos independientes. <br> **4**. Solo se eliminan si tú llamas a `self.retract(...)`.*\n",
        "<br>\n",
        "\n",
        "### **5. ¿Cómo cambia el comportamiento del sistema cuando se ejecuta nuevamente después de eliminar algunos síntomas mediante retract?**\n",
        "\n",
        "##### ***Rta:** El sistema ya no activará las reglas asociadas a los síntomas eliminados, al retractar un hecho, se elimina de la memoria del motor, entonces las reglas que dependían de él dejan de cumplirse. El flujo de diagnósticos y reparaciones será más corto o diferente según qué síntomas se retiren.*\n",
        "<br>\n",
        "\n",
        "### **6. ¿Qué ventajas presenta el uso de un hecho intermedio (RepairAction) para gestionar las reparaciones?**\n",
        "\n",
        "##### ***Rta:** Algunas de las ventajas que presenta son: <br> <br> **1.** Separación de responsabilidades <br> <li> Regla de diagnóstico: decide qué pasa. <br> <li> Regla de reparación: decide qué hacer. <br> <br> **2.** Modularidad y escalabilidad <li> En un futuro si agregamos otra reparación para el mismo diagnóstico, solo añaderiamos una regla que reaccione a `RepairAction(...)`, sin tocar las reglas de diagnóstico.*"
      ],
      "metadata": {
        "id": "DydlLq5U-hSW"
      }
    }
  ]
}